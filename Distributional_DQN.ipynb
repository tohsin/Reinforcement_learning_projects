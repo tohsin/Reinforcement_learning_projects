{
  "nbformat": 4,
  "nbformat_minor": 0,
  "metadata": {
    "kernelspec": {
      "display_name": "Python 3",
      "language": "python",
      "name": "python3"
    },
    "language_info": {
      "codemirror_mode": {
        "name": "ipython",
        "version": 3
      },
      "file_extension": ".py",
      "mimetype": "text/x-python",
      "name": "python",
      "nbconvert_exporter": "python",
      "pygments_lexer": "ipython3",
      "version": "3.7.4"
    },
    "colab": {
      "name": "Distributional DQN.ipynb",
      "provenance": [],
      "include_colab_link": true
    }
  },
  "cells": [
    {
      "cell_type": "markdown",
      "metadata": {
        "id": "view-in-github",
        "colab_type": "text"
      },
      "source": [
        "<a href=\"https://colab.research.google.com/github/tohsin/Reinforcement_learning_projects/blob/main/Distributional_DQN.ipynb\" target=\"_parent\"><img src=\"https://colab.research.google.com/assets/colab-badge.svg\" alt=\"Open In Colab\"/></a>"
      ]
    },
    {
      "cell_type": "code",
      "metadata": {
        "id": "fHUCNggPlYUm"
      },
      "source": [
        "import numpy as np\n",
        "import torch\n",
        "from matplotlib import pyplot as plt"
      ],
      "execution_count": null,
      "outputs": []
    },
    {
      "cell_type": "code",
      "metadata": {
        "id": "N2FHImdilYUv",
        "outputId": "94de0050-4c67-46a5-d443-b1312531ecc8"
      },
      "source": [
        "probs=np.array([0.6,0.1,0.1,0.1,0.1])\n",
        "outcomes=np.array([18,21,17,17,21])\n",
        "expected_value=0.0\n",
        "for i in range(probs.shape[0]):\n",
        "    expected_value = expected_value+probs[i]*outcomes[i]\n",
        "expected_value"
      ],
      "execution_count": null,
      "outputs": [
        {
          "output_type": "execute_result",
          "data": {
            "text/plain": [
              "18.4"
            ]
          },
          "metadata": {
            "tags": []
          },
          "execution_count": 5
        }
      ]
    },
    {
      "cell_type": "code",
      "metadata": {
        "id": "3SA5EeKJlYU2",
        "outputId": "843f9bad-9804-486b-8274-8efd0421791f"
      },
      "source": [
        "expected_value=probs @ outcomes\n",
        "expected_value"
      ],
      "execution_count": null,
      "outputs": [
        {
          "output_type": "execute_result",
          "data": {
            "text/plain": [
              "18.4"
            ]
          },
          "metadata": {
            "tags": []
          },
          "execution_count": 6
        }
      ]
    },
    {
      "cell_type": "code",
      "metadata": {
        "id": "eNmEYS13lYU9",
        "outputId": "387729da-f597-4773-8465-35bd7bbceed1"
      },
      "source": [
        "vmax,vmin=10,-10\n",
        "nsup=51\n",
        "support=np.linspace(vmin,vmax,nsup)\n",
        "probs=np.ones(nsup)\n",
        "probs /=probs.sum()\n",
        "z3=torch.from_numpy(probs).float()\n",
        "plt.bar(support,probs)"
      ],
      "execution_count": null,
      "outputs": [
        {
          "output_type": "execute_result",
          "data": {
            "text/plain": [
              "<BarContainer object of 51 artists>"
            ]
          },
          "metadata": {
            "tags": []
          },
          "execution_count": 11
        },
        {
          "output_type": "display_data",
          "data": {
            "image/png": "[encoded data removed]",
            "text/plain": [
              "<Figure size 432x288 with 1 Axes>"
            ]
          },
          "metadata": {
            "tags": [],
            "needs_background": "light"
          }
        }
      ]
    },
    {
      "cell_type": "code",
      "metadata": {
        "id": "DYSd9TjUlYVB"
      },
      "source": [
        "def update_dist(r,support,probs,lim=(-10.,10.),gamma=0.8):\n",
        "    nsup = probs.shape[0]\n",
        "    vmin,vmax = lim[0],lim[1]\n",
        "    dz = (vmax-vmin)/(nsup-1.) #A\n",
        "    bj = np.round((r-vmin)/dz) #B\n",
        "    bj = int(np.clip(bj,0,nsup-1)) #C\n",
        "    m = probs.clone()\n",
        "    j = 1\n",
        "    for i in range(bj,1,-1): #D\n",
        "        m[i] += np.power(gamma,j) * m[i-1]\n",
        "        j += 1\n",
        "    j = 1\n",
        "    for i in range(bj,nsup-1,1): #E\n",
        "        m[i] += np.power(gamma,j) * m[i+1]\n",
        "        j += 1\n",
        "    m /= m.sum() #F\n",
        "    return m"
      ],
      "execution_count": null,
      "outputs": []
    },
    {
      "cell_type": "code",
      "metadata": {
        "id": "gzZZUutDlYVH",
        "outputId": "be65448b-f3ab-4e88-a985-942f2b19a5da"
      },
      "source": [
        "ob_reward = -1\n",
        "Z = torch.from_numpy(probs).float()\n",
        "Z = update_dist(ob_reward,torch.from_numpy(support).float(),Z,lim=(vmin,vmax),gamma=0.1)\n",
        "plt.bar(support,Z)"
      ],
      "execution_count": null,
      "outputs": [
        {
          "output_type": "execute_result",
          "data": {
            "text/plain": [
              "<BarContainer object of 51 artists>"
            ]
          },
          "metadata": {
            "tags": []
          },
          "execution_count": 48
        },
        {
          "output_type": "display_data",
          "data": {
            "image/png": "[encoded data removed]",
            "text/plain": [
              "<Figure size 432x288 with 1 Axes>"
            ]
          },
          "metadata": {
            "tags": [],
            "needs_background": "light"
          }
        }
      ]
    },
    {
      "cell_type": "code",
      "metadata": {
        "id": "F5k1jgxrlYVO",
        "outputId": "45b21b73-ebee-4b23-9237-6cddef5ef5ef"
      },
      "source": [
        "ob_rewards = [10,10,10,0,1,0,-10,-10,10,10]\n",
        "for i in range(len(ob_rewards)):\n",
        "    Z = update_dist(ob_rewards[i], torch.from_numpy(support).float(), Z, lim=(vmin,vmax), gamma=0.5)\n",
        "plt.bar(support, Z)"
      ],
      "execution_count": null,
      "outputs": [
        {
          "output_type": "execute_result",
          "data": {
            "text/plain": [
              "<BarContainer object of 51 artists>"
            ]
          },
          "metadata": {
            "tags": []
          },
          "execution_count": 49
        },
        {
          "output_type": "display_data",
          "data": {
            "image/png": "[encoded data removed]",
            "text/plain": [
              "<Figure size 432x288 with 1 Axes>"
            ]
          },
          "metadata": {
            "tags": [],
            "needs_background": "light"
          }
        }
      ]
    },
    {
      "cell_type": "code",
      "metadata": {
        "id": "sIBCf5TwlYVU",
        "outputId": "91cf0260-32c5-4d38-a8d5-14c16fbe7f71"
      },
      "source": [
        "ob_rewards = [5, 5, 5, 5, 5, 5, 5, 5, 5, 5, 5, 5, 5, 5, 5, 5, 5, 5, 5, 5]\n",
        "for i in range(len(ob_rewards)):\n",
        "    Z = update_dist(ob_rewards[i], torch.from_numpy(support).float(), \\\n",
        "    Z, lim=(vmin,vmax), gamma=0.7)\n",
        "plt.bar(support, Z)"
      ],
      "execution_count": null,
      "outputs": [
        {
          "output_type": "execute_result",
          "data": {
            "text/plain": [
              "<BarContainer object of 51 artists>"
            ]
          },
          "metadata": {
            "tags": []
          },
          "execution_count": 50
        },
        {
          "output_type": "display_data",
          "data": {
            "image/png": "[encoded data removed]",
            "text/plain": [
              "<Figure size 432x288 with 1 Axes>"
            ]
          },
          "metadata": {
            "tags": [],
            "needs_background": "light"
          }
        }
      ]
    },
    {
      "cell_type": "code",
      "metadata": {
        "id": "SPylzb4xlYVc",
        "outputId": "48910f08-aade-4e75-88dc-9336fc9e7a5a"
      },
      "source": [
        "def dist_dqn(x,theta,aspace=3):\n",
        "    dim0,dim1,dim2,dim3=128,100,25,51\n",
        "    t1=dim0 *dim1\n",
        "    t2=dim2 * dim1\n",
        "    theta1=theta[0:t1].reshape(dim0,dim1)"
      ],
      "execution_count": null,
      "outputs": [
        {
          "output_type": "error",
          "ename": "SyntaxError",
          "evalue": "unexpected EOF while parsing (<ipython-input-51-5eebc54a562b>, line 1)",
          "traceback": [
            "\u001b[0;36m  File \u001b[0;32m\"<ipython-input-51-5eebc54a562b>\"\u001b[0;36m, line \u001b[0;32m1\u001b[0m\n\u001b[0;31m    def dist_dqn(x,theta,aspace=3):\u001b[0m\n\u001b[0m                                   ^\u001b[0m\n\u001b[0;31mSyntaxError\u001b[0m\u001b[0;31m:\u001b[0m unexpected EOF while parsing\n"
          ]
        }
      ]
    },
    {
      "cell_type": "code",
      "metadata": {
        "id": "UeQwRa_plYVh"
      },
      "source": [
        ""
      ],
      "execution_count": null,
      "outputs": []
    }
  ]
}